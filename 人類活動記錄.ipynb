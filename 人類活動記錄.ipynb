{
 "cells": [
  {
   "cell_type": "code",
   "execution_count": 1,
   "metadata": {
    "collapsed": true,
    "pycharm": {
     "name": "#%%\n"
    }
   },
   "outputs": [],
   "source": [
    "import pandas as pd"
   ]
  },
  {
   "cell_type": "code",
   "execution_count": 2,
   "outputs": [
    {
     "data": {
      "text/plain": "   rn  activity  tBodyAcc.mean.X  tBodyAcc.mean.Y  tBodyAcc.mean.Z  \\\n0   7  STANDING            0.279          -0.0196          -0.1100   \n1  11  STANDING            0.277          -0.0127          -0.1030   \n2  14  STANDING            0.277          -0.0147          -0.1070   \n3  15  STANDING            0.298           0.0271          -0.0617   \n4  20  STANDING            0.276          -0.0170          -0.1110   \n\n   tBodyAcc.std.X  tBodyAcc.std.Y  tBodyAcc.std.Z  tBodyAcc.mad.X  \\\n0          -0.997          -0.967          -0.983          -0.997   \n1          -0.995          -0.973          -0.985          -0.996   \n2          -0.999          -0.991          -0.993          -0.999   \n3          -0.989          -0.817          -0.902          -0.989   \n4          -0.998          -0.991          -0.998          -0.998   \n\n   tBodyAcc.mad.Y  ...  fBodyBodyGyroJerkMag.meanFreq  \\\n0          -0.966  ...                          0.146   \n1          -0.974  ...                          0.121   \n2          -0.991  ...                          0.740   \n3          -0.794  ...                          0.131   \n4          -0.989  ...                          0.667   \n\n   fBodyBodyGyroJerkMag.skewness  fBodyBodyGyroJerkMag.kurtosis  \\\n0                         -0.217                        -0.5640   \n1                          0.349                         0.0577   \n2                         -0.564                        -0.7660   \n3                          0.208                        -0.0681   \n4                         -0.942                        -0.9660   \n\n   angle.tBodyAccMean.gravity  angle.tBodyAccJerkMean.gravityMean  \\\n0                     -0.2130                             -0.2310   \n1                      0.0807                              0.5960   \n2                      0.1060                             -0.0903   \n3                      0.0623                             -0.0587   \n4                      0.2450                              0.1030   \n\n   angle.tBodyGyroMean.gravityMean  angle.tBodyGyroJerkMean.gravityMean  \\\n0                           0.0146                               -0.190   \n1                          -0.4760                                0.116   \n2                          -0.1320                                0.499   \n3                           0.0312                               -0.269   \n4                           0.0661                               -0.412   \n\n   angle.X.gravityMean  angle.Y.gravityMean  angle.Z.gravityMean  \n0               -0.852                0.182              -0.0430  \n1               -0.852                0.188              -0.0347  \n2               -0.850                0.189              -0.0351  \n3               -0.731                0.283               0.0364  \n4               -0.761                0.263               0.0296  \n\n[5 rows x 563 columns]",
      "text/html": "<div>\n<style scoped>\n    .dataframe tbody tr th:only-of-type {\n        vertical-align: middle;\n    }\n\n    .dataframe tbody tr th {\n        vertical-align: top;\n    }\n\n    .dataframe thead th {\n        text-align: right;\n    }\n</style>\n<table border=\"1\" class=\"dataframe\">\n  <thead>\n    <tr style=\"text-align: right;\">\n      <th></th>\n      <th>rn</th>\n      <th>activity</th>\n      <th>tBodyAcc.mean.X</th>\n      <th>tBodyAcc.mean.Y</th>\n      <th>tBodyAcc.mean.Z</th>\n      <th>tBodyAcc.std.X</th>\n      <th>tBodyAcc.std.Y</th>\n      <th>tBodyAcc.std.Z</th>\n      <th>tBodyAcc.mad.X</th>\n      <th>tBodyAcc.mad.Y</th>\n      <th>...</th>\n      <th>fBodyBodyGyroJerkMag.meanFreq</th>\n      <th>fBodyBodyGyroJerkMag.skewness</th>\n      <th>fBodyBodyGyroJerkMag.kurtosis</th>\n      <th>angle.tBodyAccMean.gravity</th>\n      <th>angle.tBodyAccJerkMean.gravityMean</th>\n      <th>angle.tBodyGyroMean.gravityMean</th>\n      <th>angle.tBodyGyroJerkMean.gravityMean</th>\n      <th>angle.X.gravityMean</th>\n      <th>angle.Y.gravityMean</th>\n      <th>angle.Z.gravityMean</th>\n    </tr>\n  </thead>\n  <tbody>\n    <tr>\n      <th>0</th>\n      <td>7</td>\n      <td>STANDING</td>\n      <td>0.279</td>\n      <td>-0.0196</td>\n      <td>-0.1100</td>\n      <td>-0.997</td>\n      <td>-0.967</td>\n      <td>-0.983</td>\n      <td>-0.997</td>\n      <td>-0.966</td>\n      <td>...</td>\n      <td>0.146</td>\n      <td>-0.217</td>\n      <td>-0.5640</td>\n      <td>-0.2130</td>\n      <td>-0.2310</td>\n      <td>0.0146</td>\n      <td>-0.190</td>\n      <td>-0.852</td>\n      <td>0.182</td>\n      <td>-0.0430</td>\n    </tr>\n    <tr>\n      <th>1</th>\n      <td>11</td>\n      <td>STANDING</td>\n      <td>0.277</td>\n      <td>-0.0127</td>\n      <td>-0.1030</td>\n      <td>-0.995</td>\n      <td>-0.973</td>\n      <td>-0.985</td>\n      <td>-0.996</td>\n      <td>-0.974</td>\n      <td>...</td>\n      <td>0.121</td>\n      <td>0.349</td>\n      <td>0.0577</td>\n      <td>0.0807</td>\n      <td>0.5960</td>\n      <td>-0.4760</td>\n      <td>0.116</td>\n      <td>-0.852</td>\n      <td>0.188</td>\n      <td>-0.0347</td>\n    </tr>\n    <tr>\n      <th>2</th>\n      <td>14</td>\n      <td>STANDING</td>\n      <td>0.277</td>\n      <td>-0.0147</td>\n      <td>-0.1070</td>\n      <td>-0.999</td>\n      <td>-0.991</td>\n      <td>-0.993</td>\n      <td>-0.999</td>\n      <td>-0.991</td>\n      <td>...</td>\n      <td>0.740</td>\n      <td>-0.564</td>\n      <td>-0.7660</td>\n      <td>0.1060</td>\n      <td>-0.0903</td>\n      <td>-0.1320</td>\n      <td>0.499</td>\n      <td>-0.850</td>\n      <td>0.189</td>\n      <td>-0.0351</td>\n    </tr>\n    <tr>\n      <th>3</th>\n      <td>15</td>\n      <td>STANDING</td>\n      <td>0.298</td>\n      <td>0.0271</td>\n      <td>-0.0617</td>\n      <td>-0.989</td>\n      <td>-0.817</td>\n      <td>-0.902</td>\n      <td>-0.989</td>\n      <td>-0.794</td>\n      <td>...</td>\n      <td>0.131</td>\n      <td>0.208</td>\n      <td>-0.0681</td>\n      <td>0.0623</td>\n      <td>-0.0587</td>\n      <td>0.0312</td>\n      <td>-0.269</td>\n      <td>-0.731</td>\n      <td>0.283</td>\n      <td>0.0364</td>\n    </tr>\n    <tr>\n      <th>4</th>\n      <td>20</td>\n      <td>STANDING</td>\n      <td>0.276</td>\n      <td>-0.0170</td>\n      <td>-0.1110</td>\n      <td>-0.998</td>\n      <td>-0.991</td>\n      <td>-0.998</td>\n      <td>-0.998</td>\n      <td>-0.989</td>\n      <td>...</td>\n      <td>0.667</td>\n      <td>-0.942</td>\n      <td>-0.9660</td>\n      <td>0.2450</td>\n      <td>0.1030</td>\n      <td>0.0661</td>\n      <td>-0.412</td>\n      <td>-0.761</td>\n      <td>0.263</td>\n      <td>0.0296</td>\n    </tr>\n  </tbody>\n</table>\n<p>5 rows × 563 columns</p>\n</div>"
     },
     "execution_count": 2,
     "metadata": {},
     "output_type": "execute_result"
    }
   ],
   "source": [
    "df = pd.read_csv('HAR_train.csv')\n",
    "df.head()"
   ],
   "metadata": {
    "collapsed": false,
    "pycharm": {
     "name": "#%%\n"
    }
   }
  },
  {
   "cell_type": "code",
   "execution_count": 3,
   "outputs": [
    {
     "name": "stdout",
     "output_type": "stream",
     "text": [
      "數據表的形狀: (3609, 563)\n"
     ]
    }
   ],
   "source": [
    "print(\"數據表的形狀: \" + str(df.shape)) # (2,3)"
   ],
   "metadata": {
    "collapsed": false,
    "pycharm": {
     "name": "#%%\n"
    }
   }
  },
  {
   "cell_type": "code",
   "execution_count": null,
   "outputs": [],
   "source": [
    "labels = df['activity']\n",
    "df.drop"
   ],
   "metadata": {
    "collapsed": false,
    "pycharm": {
     "name": "#%%\n"
    }
   }
  }
 ],
 "metadata": {
  "kernelspec": {
   "display_name": "Python 3",
   "language": "python",
   "name": "python3"
  },
  "language_info": {
   "codemirror_mode": {
    "name": "ipython",
    "version": 2
   },
   "file_extension": ".py",
   "mimetype": "text/x-python",
   "name": "python",
   "nbconvert_exporter": "python",
   "pygments_lexer": "ipython2",
   "version": "2.7.6"
  }
 },
 "nbformat": 4,
 "nbformat_minor": 0
}